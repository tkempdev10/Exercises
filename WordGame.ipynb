{
 "cells": [
  {
   "cell_type": "code",
   "execution_count": 14,
   "metadata": {},
   "outputs": [
    {
     "name": "stdout",
     "output_type": "stream",
     "text": [
      "Welcome to the word-guessing game! You can guess letters or the whole word and you get 7 guesses to start with! Each letter or word guess that is incorrect will decrease your guess count by 1\n",
      "You have 7 remaining guesses!\n",
      "You guessed one of the letters! Here are the letters you have found! ['_', '_', '_', '_', 'y']\n",
      "You have 7 remaining guesses!\n",
      "You guessed one of the letters! Here are the letters you have found! ['p', '_', 'p', 'p', 'y']\n",
      "You have 7 remaining guesses!\n",
      "Sorry, o was not in the word!\n",
      "You have 6 remaining guesses!\n",
      "Sorry, a was not in the word!\n",
      "You have 5 remaining guesses!\n",
      "Congratulations! The word was puppy!\n"
     ]
    }
   ],
   "source": [
    "Guesses = 7\n",
    "Word = \"puppy\"\n",
    "Blank_Word = ['_' for i in Word]\n",
    "indexlist = []\n",
    "\n",
    "print(\"Welcome to the word-guessing game! You can guess letters or the whole word and you get 7 guesses to start with! Each letter or word guess that is incorrect will decrease your guess count by 1\")\n",
    "while Guesses >= 1:\n",
    "    print(f\"You have {Guesses} remaining guesses!\")\n",
    "    User_Guess = str(input(\"Enter your guess!\"))\n",
    "    if len(User_Guess)>1:\n",
    "        if User_Guess == Word:\n",
    "            print(f\"Congratulations! {Word} was the word!\")\n",
    "            break\n",
    "        elif User_Guess != Word and Guesses == 1:\n",
    "            print(f\"Game Over! The word was {Word}. Better luck next time!\")\n",
    "            break\n",
    "        else:\n",
    "            print(\"Sorry, that was not the word! Try again!\")\n",
    "            Guesses = Guesses-1\n",
    "    else:\n",
    "        if User_Guess in Word:\n",
    "            indexlist = [i for i, ltr in enumerate(Word) if ltr == User_Guess]\n",
    "            for i in indexlist:\n",
    "                    Blank_Word[i] = User_Guess\n",
    "            if '_' not in Blank_Word:\n",
    "                print(f\"Congratulations! The word was {Word}!\")\n",
    "                break\n",
    "            else:\n",
    "                print(f'You guessed one of the letters! Here are the letters you have found! {Blank_Word}')\n",
    "        else:\n",
    "            print(f'Sorry, {User_Guess} was not in the word!')\n",
    "            Guesses = Guesses - 1\n",
    "            if Guesses == 0:\n",
    "                print(f\"Sorry! You have run out of guesses. The word was {Word}, better luck next time!\")\n",
    "                break\n",
    "        "
   ]
  }
 ],
 "metadata": {
  "kernelspec": {
   "display_name": "Python 3.9.12 ('base')",
   "language": "python",
   "name": "python3"
  },
  "language_info": {
   "codemirror_mode": {
    "name": "ipython",
    "version": 3
   },
   "file_extension": ".py",
   "mimetype": "text/x-python",
   "name": "python",
   "nbconvert_exporter": "python",
   "pygments_lexer": "ipython3",
   "version": "3.9.12"
  },
  "orig_nbformat": 4,
  "vscode": {
   "interpreter": {
    "hash": "2d67e441c58747ddd9aa31acf88f9f1ce96d36aa639a8fbbb882c961ad1086d7"
   }
  }
 },
 "nbformat": 4,
 "nbformat_minor": 2
}
